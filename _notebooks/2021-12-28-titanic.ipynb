{
 "cells": [
  {
   "cell_type": "markdown",
   "id": "7149d437-1fef-477b-9145-8e23a25e0476",
   "metadata": {},
   "source": [
    "# Titanic 6 (Final)"
   ]
  },
  {
   "cell_type": "markdown",
   "id": "76a3e5d4-639a-48a0-9f05-f5e0edcfa02b",
   "metadata": {},
   "source": [
    "> `one-hot encoding`"
   ]
  },
  {
   "cell_type": "markdown",
   "id": "a42434ec-5ade-471b-988b-8e996aa634e2",
   "metadata": {},
   "source": [
    "- Master면 1 아니면 0, Miss 면 1 아니면0 이런 방식으로 코딩하는 것을 의미함\n",
    "\n",
    "- pandas의 get_dummies를 이용하여 쉽게 해결할 수 있음\n",
    "\n",
    "- Initial_Master, Initial_Miss, Initial_Mr, Initial_Mrs, Initial_Other같이 새로운 5개의 columns이 생길 것"
   ]
  },
  {
   "cell_type": "code",
   "execution_count": 184,
   "id": "1cb8251c-912d-41b7-9482-28377d74aa7f",
   "metadata": {},
   "outputs": [],
   "source": [
    "import numpy as np\n",
    "import pandas as pd\n",
    "import matplotlib.pyplot as plt\n",
    "import seaborn as sns\n",
    "\n",
    "plt.style.use('seaborn')\n",
    "sns.set(font_scale=2.5)\n",
    "\n",
    "import missingno as msno \n",
    "import warnings\n",
    "warnings.filterwarnings('ignore')\n",
    "%matplotlib inline\n",
    "df_train=pd.read_csv('C:/Users/ehfus/Downloads/titanic/train.csv')\n",
    "df_test=pd.read_csv('C:/Users/ehfus/Downloads/titanic/test.csv')"
   ]
  },
  {
   "cell_type": "code",
   "execution_count": 185,
   "id": "b6f54034-86f7-4164-8797-d0f7808b6312",
   "metadata": {},
   "outputs": [],
   "source": [
    "df_train['Initial']=df_train['Name'].str.extract('([A-Za-z]+)\\.')\n",
    "df_test['Initial']=df_test['Name'].str.extract('([A-Za-z]+)\\.')"
   ]
  },
  {
   "cell_type": "code",
   "execution_count": 186,
   "id": "f06e6663-79ab-49cf-948a-eca932add827",
   "metadata": {},
   "outputs": [],
   "source": [
    "df_train['Initial'].replace(['Mile','Mme','Ms','Dr','Major','Lady','Countess','Jonkheer','Col','Rev','Capt','Sir','Don','Dona'],\n",
    "                            ['Miss','Miss','Miss','Mr','Mr','Mrs','Mrs','Other','Other','Other','Mr','Mr','Mr','Mr'],inplace=True)\n",
    "df_test['Initial'].replace(['Mile','Mme','Ms','Dr','Major','Lady','Countess','Jonkheer','Col','Rev','Capt','Sir','Don','Dona'],\n",
    "                            ['Miss','Miss','Miss','Mr','Mr','Mrs','Mrs','Other','Other','Other','Mr','Mr','Mr','Mr'],inplace=True)"
   ]
  },
  {
   "cell_type": "code",
   "execution_count": 187,
   "id": "6978740d-fd39-428c-9459-c3b670d5d2e3",
   "metadata": {},
   "outputs": [],
   "source": [
    "df_train.loc[(df_train['Age'].isnull())&(df_train['Initial']=='Mr'),'Age']=33\n",
    "df_train.loc[(df_train['Age'].isnull())&(df_train['Initial']=='Mrs'),'Age']=37\n",
    "df_train.loc[(df_train['Age'].isnull())&(df_train['Initial']=='Master'),'Age']=5\n",
    "df_train.loc[(df_train['Age'].isnull())&(df_train['Initial']=='Miss'),'Age']=22\n",
    "df_train.loc[(df_train['Age'].isnull())&(df_train['Initial']=='Other'),'Age']=45\n",
    "\n",
    "df_test.loc[(df_test['Age'].isnull())&(df_test['Initial']=='Mr'),'Age']=33\n",
    "df_test.loc[(df_test['Age'].isnull())&(df_test['Initial']=='Mrs'),'Age']=37\n",
    "df_test.loc[(df_test['Age'].isnull())&(df_test['Initial']=='Master'),'Age']=5\n",
    "df_test.loc[(df_test['Age'].isnull())&(df_test['Initial']=='Miss'),'Age']=22\n",
    "df_test.loc[(df_test['Age'].isnull())&(df_test['Initial']=='Other'),'Age']=45"
   ]
  },
  {
   "cell_type": "code",
   "execution_count": 188,
   "id": "a892709f-2143-48a9-b52e-81e771d1bccc",
   "metadata": {},
   "outputs": [],
   "source": [
    "df_train['Embarked'].fillna('S',inplace=True)\n",
    "df_test['Embarked'].fillna('S',inplace=True)"
   ]
  },
  {
   "cell_type": "code",
   "execution_count": 189,
   "id": "88d9d4aa-8219-410e-8c47-b0b0f9653602",
   "metadata": {},
   "outputs": [],
   "source": [
    "df_train['Age_cat']=0\n",
    "df_test['Age_cat']=0"
   ]
  },
  {
   "cell_type": "code",
   "execution_count": 190,
   "id": "816ef543-5f48-47ac-9363-eaa74e1e91f8",
   "metadata": {},
   "outputs": [],
   "source": [
    "def f(x):\n",
    "    if x<10 :\n",
    "        return  0\n",
    "    elif x<20 :\n",
    "        return  1\n",
    "    elif x<30 :\n",
    "        return  2    \n",
    "    elif x<40 :\n",
    "        return  3    \n",
    "    elif x<50 :\n",
    "        return  4    \n",
    "    elif x<60 :\n",
    "        return  5    \n",
    "    elif x<70 :\n",
    "        return  6\n",
    "    else :\n",
    "        return  7"
   ]
  },
  {
   "cell_type": "code",
   "execution_count": 191,
   "id": "4638ddbc-2994-4b4a-a1eb-6896aba5104d",
   "metadata": {},
   "outputs": [],
   "source": [
    "df_train['Age_cat']=df_train['Age'].apply(f)\n",
    "df_test['Age_cat']=df_test['Age'].apply(f)"
   ]
  },
  {
   "cell_type": "code",
   "execution_count": 192,
   "id": "b484f2fb-164e-445f-966c-612a4a985822",
   "metadata": {},
   "outputs": [],
   "source": [
    "df_train.drop(['Age'],axis=1,inplace=True)\n",
    "df_test.drop(['Age'],axis=1,inplace=True)"
   ]
  },
  {
   "cell_type": "code",
   "execution_count": 193,
   "id": "95aa631a-f8a7-4d21-87c4-83f316c1ad8b",
   "metadata": {},
   "outputs": [],
   "source": [
    "df_train['Embarked']=df_train['Embarked'].map({'C':0,'Q':1,'S':2})\n",
    "df_test['Embarked']=df_test['Embarked'].map({'C':0,'Q':1,'S':2})"
   ]
  },
  {
   "cell_type": "code",
   "execution_count": 194,
   "id": "38ad9abd-aa6d-4823-bed1-5764bfd1eadc",
   "metadata": {},
   "outputs": [],
   "source": [
    "df_train['Sex']=df_train['Sex'].map({'female':0,'male':1})\n",
    "df_test['Sex']=df_test['Sex'].map({'female':0,'male':1})"
   ]
  },
  {
   "cell_type": "code",
   "execution_count": 195,
   "id": "919b4a4e-3f89-479e-af35-2053f70ad689",
   "metadata": {},
   "outputs": [],
   "source": [
    "df_train['FamilySize']=df_train['SibSp'] + df_train['Parch'] + 1\n",
    "df_test['FamilySize']=df_test['SibSp'] + df_test['Parch'] + 1"
   ]
  },
  {
   "cell_type": "code",
   "execution_count": 196,
   "id": "1d7e1687-f183-47a9-a408-049c9b40f15f",
   "metadata": {},
   "outputs": [],
   "source": [
    "df_train['Initial']=df_train['Initial'].map({'Master':0,'Miss':1,'Mr':2,'Mrs':3,'Other':4})\n",
    "df_test['Initial']=df_test['Initial'].map({'Master':0,'Miss':1,'Mr':2,'Mrs':3,'Other':4})"
   ]
  },
  {
   "cell_type": "code",
   "execution_count": 197,
   "id": "1a89d59d-5c59-4ea2-9280-5dddc8fe2b0d",
   "metadata": {},
   "outputs": [],
   "source": [
    "df_train=pd.get_dummies(df_train, columns=['Initial'],prefix='Initial')\n",
    "df_test=pd.get_dummies(df_test, columns=['Initial'],prefix='Initial')"
   ]
  },
  {
   "cell_type": "code",
   "execution_count": 198,
   "id": "8f2c9409-071b-47b9-acbb-f1a5a121469c",
   "metadata": {},
   "outputs": [],
   "source": [
    "df_train=pd.get_dummies(df_train,columns=['Embarked'],prefix='Embarked')\n",
    "df_test=pd.get_dummies(df_test,columns=['Embarked'],prefix='Embarked')"
   ]
  },
  {
   "cell_type": "markdown",
   "id": "b10862a2-eb0d-4c55-9601-7f2e41d1d08f",
   "metadata": {},
   "source": [
    "- 만약 100개정도 되는 feature일 때 one-hot-encoding사용하면 오히려 역효과가 날 수 있음, (columns가 100개 정도 생성되기 때문에)\n",
    "\n",
    "- 따라서 다른 방법을 사용해야 함 (추후에 알아볼 것)"
   ]
  },
  {
   "cell_type": "markdown",
   "id": "838b5276-eb0b-4935-a961-6146517d670b",
   "metadata": {},
   "source": [
    "> 머신 러닝하기 전 필요없는 자료들은 빼주자"
   ]
  },
  {
   "cell_type": "code",
   "execution_count": 199,
   "id": "5273ea63-797a-461d-a9e2-f8fc33769463",
   "metadata": {},
   "outputs": [],
   "source": [
    "df_train.drop(['PassengerId','Name','SibSp','Parch','Ticket','Cabin'],axis=1,inplace=True)\n",
    "df_test.drop(['PassengerId','Name','SibSp','Parch','Ticket','Cabin'],axis=1,inplace=True)"
   ]
  },
  {
   "cell_type": "markdown",
   "id": "7037b3fc-71f5-4d25-ae8e-67af6a7c4751",
   "metadata": {},
   "source": [
    "---"
   ]
  },
  {
   "cell_type": "markdown",
   "id": "78e89aac-478d-4bc8-b947-822026d633ee",
   "metadata": {},
   "source": [
    "> `sklearn을 이용해서 modeling 해보자`"
   ]
  },
  {
   "cell_type": "code",
   "execution_count": 200,
   "id": "b3c30f45-e99d-4bb4-b323-fa63c0d632d4",
   "metadata": {},
   "outputs": [],
   "source": [
    "from sklearn.ensemble import RandomForestClassifier\n",
    "from sklearn import metrics\n",
    "from sklearn.model_selection import train_test_split"
   ]
  },
  {
   "cell_type": "code",
   "execution_count": 201,
   "id": "a4438a58-895a-4229-aa86-9fc415f4d5ea",
   "metadata": {},
   "outputs": [],
   "source": [
    "X_train = df_train.drop('Survived',axis=1).values\n",
    "target_label = df_train['Survived'].values\n",
    "X_test = df_test.values"
   ]
  },
  {
   "cell_type": "code",
   "execution_count": 202,
   "id": "b8642807-a9bd-4981-8efc-8ffa40f8c022",
   "metadata": {},
   "outputs": [
    {
     "data": {
      "text/plain": [
       "(891, 14)"
      ]
     },
     "execution_count": 202,
     "metadata": {},
     "output_type": "execute_result"
    }
   ],
   "source": [
    "df_train.shape"
   ]
  },
  {
   "cell_type": "markdown",
   "id": "e6129ea0-2423-42ac-bda1-2943204aeda0",
   "metadata": {},
   "source": [
    "- 여기서 30%를 valid로 주고 70%를 train으로 줬음"
   ]
  },
  {
   "cell_type": "markdown",
   "id": "c88a6f2a-8158-4c06-be68-1360f3353406",
   "metadata": {},
   "source": [
    "- 따라서"
   ]
  },
  {
   "cell_type": "code",
   "execution_count": 203,
   "id": "46b3c6ff-f904-478a-a7f0-f20ea1cdb402",
   "metadata": {},
   "outputs": [],
   "source": [
    "X_tr,X_vid,y_tr,y_vid=train_test_split(X_train, target_label, test_size=0.3,random_state=2018)"
   ]
  },
  {
   "cell_type": "code",
   "execution_count": 204,
   "id": "753a67eb-4327-4bf6-8fd9-efe28686381f",
   "metadata": {},
   "outputs": [
    {
     "data": {
      "text/plain": [
       "(623, 13)"
      ]
     },
     "execution_count": 204,
     "metadata": {},
     "output_type": "execute_result"
    }
   ],
   "source": [
    "X_tr.shape"
   ]
  },
  {
   "cell_type": "code",
   "execution_count": 205,
   "id": "28b06ba5-3450-4678-ac6e-78ae60d18465",
   "metadata": {},
   "outputs": [
    {
     "data": {
      "text/plain": [
       "623.6999999999999"
      ]
     },
     "execution_count": 205,
     "metadata": {},
     "output_type": "execute_result"
    }
   ],
   "source": [
    "891*0.7"
   ]
  },
  {
   "cell_type": "code",
   "execution_count": 206,
   "id": "ed71f724-4ca5-4114-931b-47b82b4f703e",
   "metadata": {},
   "outputs": [
    {
     "data": {
      "text/plain": [
       "RandomForestClassifier()"
      ]
     },
     "execution_count": 206,
     "metadata": {},
     "output_type": "execute_result"
    }
   ],
   "source": [
    "model = RandomForestClassifier()\n",
    "model.fit(X_tr,y_tr)"
   ]
  },
  {
   "cell_type": "code",
   "execution_count": 207,
   "id": "5392fbc2-d600-470e-8d28-5e2084f8cf62",
   "metadata": {},
   "outputs": [],
   "source": [
    "prediction = model.predict(X_vid)"
   ]
  },
  {
   "cell_type": "markdown",
   "id": "957e90f0-02f8-4288-ad31-34c6a35f054c",
   "metadata": {},
   "source": [
    "- 생존 여부"
   ]
  },
  {
   "cell_type": "code",
   "execution_count": 208,
   "id": "f267e8da-4728-43da-9ce6-2de5f086e5e9",
   "metadata": {},
   "outputs": [
    {
     "data": {
      "text/plain": [
       "array([0, 1, 0, 0, 1, 0, 0, 0, 0, 0, 0, 1, 1, 0, 0, 1, 0, 1, 1, 0, 0, 0,\n",
       "       0, 0, 0, 0, 0, 0, 0, 0, 0, 0, 0, 1, 1, 0, 0, 0, 0, 0, 0, 0, 0, 1,\n",
       "       0, 1, 1, 1, 0, 0, 1, 0, 1, 0, 1, 1, 0, 1, 0, 1, 0, 1, 0, 0, 1, 0,\n",
       "       0, 0, 0, 0, 1, 1, 1, 0, 0, 0, 0, 0, 0, 0, 0, 0, 1, 1, 0, 1, 1, 1,\n",
       "       0, 0, 1, 0, 1, 0, 0, 0, 0, 0, 0, 0, 0, 1, 0, 1, 0, 0, 1, 1, 0, 1,\n",
       "       1, 1, 0, 0, 0, 1, 1, 0, 0, 0, 0, 0, 0, 0, 0, 1, 0, 0, 0, 1, 1, 0,\n",
       "       0, 0, 0, 0, 1, 0, 1, 1, 0, 1, 0, 1, 0, 1, 0, 0, 0, 0, 0, 1, 0, 0,\n",
       "       0, 1, 0, 0, 0, 1, 0, 0, 0, 1, 0, 0, 1, 0, 0, 0, 0, 1, 0, 1, 0, 1,\n",
       "       1, 1, 1, 0, 0, 0, 0, 0, 1, 1, 1, 0, 0, 0, 0, 1, 0, 1, 1, 0, 0, 0,\n",
       "       1, 1, 0, 1, 0, 1, 0, 0, 0, 0, 0, 1, 0, 1, 0, 0, 0, 1, 0, 0, 0, 1,\n",
       "       1, 0, 0, 0, 1, 0, 0, 0, 0, 0, 0, 0, 0, 0, 0, 0, 0, 0, 0, 1, 1, 0,\n",
       "       1, 0, 0, 1, 0, 1, 1, 0, 0, 0, 0, 0, 0, 1, 0, 1, 1, 0, 1, 0, 1, 1,\n",
       "       0, 0, 0, 1], dtype=int64)"
      ]
     },
     "execution_count": 208,
     "metadata": {},
     "output_type": "execute_result"
    }
   ],
   "source": [
    "prediction"
   ]
  },
  {
   "cell_type": "code",
   "execution_count": 209,
   "id": "6feef346-dc5f-49c0-b511-d395b8b55a49",
   "metadata": {},
   "outputs": [
    {
     "name": "stdout",
     "output_type": "stream",
     "text": [
      "총268명 중 82.46% 정확도로 생존 맞춤\n"
     ]
    }
   ],
   "source": [
    "print('총{}명 중 {:.2f}% 정확도로 생존 맞춤'.format(y_vid.shape[0], 100*metrics.accuracy_score(prediction, y_vid)))"
   ]
  },
  {
   "cell_type": "code",
   "execution_count": 210,
   "id": "ba776acf-c791-4f86-b256-f1043b17f5d4",
   "metadata": {},
   "outputs": [
    {
     "data": {
      "text/plain": [
       "0.8246268656716418"
      ]
     },
     "execution_count": 210,
     "metadata": {},
     "output_type": "execute_result"
    }
   ],
   "source": [
    "(prediction == y_vid).sum()/prediction.shape[0]"
   ]
  },
  {
   "cell_type": "markdown",
   "id": "ad154b4b-79bc-4196-8cf0-643308fab183",
   "metadata": {},
   "source": [
    "----"
   ]
  },
  {
   "cell_type": "markdown",
   "id": "18eb3596-5ece-45bd-89fe-5babcbbd4570",
   "metadata": {},
   "source": [
    "> `Feature Importance`\n",
    "\n",
    "- 학습된 모델은 $Feature Importance$를 가지게 되는데, 우리는 이것을 확인하여 지금 만든 모델이 어떤 feature에 영향을 많이 받았는 지 확인할 수 있다. \n",
    "\n",
    "- 쉽게 말해 $10$ $=$ $4x_1$ $+$ $2x_2$ $+$ $1x_3$ 을 생각하면, 우리는 $x_1$ 이 결과값(10)에 큰 영향을 준다고 생각할 수 있습니다. \n",
    "\n",
    "- $feature importance$ 는 4,2,1을 이야기하며 $x_1$ 이 가장 큰 값(4)를 가지므로 , 이 모델에 가장 큰 영향을 미친다고 말할 수 있습니다."
   ]
  },
  {
   "cell_type": "markdown",
   "id": "f165e6ec-23db-437f-8c74-502f06904a0d",
   "metadata": {},
   "source": [
    "학습시키면 반드시 갖고 있음"
   ]
  },
  {
   "cell_type": "code",
   "execution_count": 211,
   "id": "08efdc10-8e87-4d4e-bb82-5e5c2423dcab",
   "metadata": {},
   "outputs": [
    {
     "data": {
      "text/plain": [
       "array([0.10150411, 0.1142312 , 0.32581198, 0.11957181, 0.09204819,\n",
       "       0.01034795, 0.03533741, 0.12524962, 0.02401136, 0.00518094,\n",
       "       0.01610738, 0.01340272, 0.01719532])"
      ]
     },
     "execution_count": 211,
     "metadata": {},
     "output_type": "execute_result"
    }
   ],
   "source": [
    "model.feature_importances_"
   ]
  },
  {
   "cell_type": "code",
   "execution_count": 213,
   "id": "e7467208-d0e1-469a-b08c-df8cbd2a7816",
   "metadata": {},
   "outputs": [],
   "source": [
    "from pandas import Series"
   ]
  },
  {
   "cell_type": "code",
   "execution_count": 214,
   "id": "f72fb3b4-85c7-4d11-a91c-c5ef09b56687",
   "metadata": {},
   "outputs": [],
   "source": [
    "feature_importance=model.feature_importances_\n",
    "Series_feat_imp=Series(feature_importance, index=df_test.columns)"
   ]
  },
  {
   "cell_type": "code",
   "execution_count": 215,
   "id": "7fb14ba6-e19b-4eb9-a638-9085b2c96393",
   "metadata": {},
   "outputs": [
    {
     "data": {
      "image/png": "[encoded data removed]",
      "text/plain": [
       "<Figure size 576x576 with 1 Axes>"
      ]
     },
     "metadata": {
      "needs_background": "light"
     },
     "output_type": "display_data"
    }
   ],
   "source": [
    "plt.figure(figsize=(8,8))\n",
    "Series_feat_imp.sort_values(ascending=True).plot.barh()\n",
    "plt.xlabel('Feature Importance')\n",
    "plt.ylabel('Feature')\n",
    "plt.show()"
   ]
  },
  {
   "cell_type": "markdown",
   "id": "066681b6-7f2e-4dfa-8c02-07a340011625",
   "metadata": {},
   "source": [
    "- titanic생존에는 Fare부터 중요한 순으로 작용을 한다고 가정할 수 있겠음"
   ]
  },
  {
   "cell_type": "code",
   "execution_count": 218,
   "id": "abc89cd2-0b0e-41e8-b4ef-23b2b7825ab4",
   "metadata": {},
   "outputs": [],
   "source": [
    "# prediction=model.predict(X_test)\n",
    "# 여기서 자료 수정 좀 해야될 것 같음"
   ]
  }
 ],
 "metadata": {
  "kernelspec": {
   "display_name": "Python 3 (ipykernel)",
   "language": "python",
   "name": "python3"
  },
  "language_info": {
   "codemirror_mode": {
    "name": "ipython",
    "version": 3
   },
   "file_extension": ".py",
   "mimetype": "text/x-python",
   "name": "python",
   "nbconvert_exporter": "python",
   "pygments_lexer": "ipython3",
   "version": "3.8.11"
  }
 },
 "nbformat": 4,
 "nbformat_minor": 5
}
